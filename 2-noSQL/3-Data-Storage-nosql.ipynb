{
 "cells": [
  {
   "cell_type": "markdown",
   "metadata": {
    "id": "J7-WgqsNrF4r"
   },
   "source": [
    "# Task 1: Create an account and getting familiar with MongoDB\n",
    "\n",
    "## 1.1 - Setup an MongoDB ATLAS account\n",
    "Follow the instructions from here: https://docs.google.com/document/d/1Puyz0RLfEqiCRl-ZaKdtKloEqVsN8GKdMuraKn1ZdoI/edit?usp=sharing \n",
    "\n",
    "\n",
    "## 1.2 - MongoDB concepts compared to Relational DB concepts\n",
    "In MongoDB, a **database** is the container for collections. A single **collection**  is the container for documents. **Documents** are usually key/value pairs but it can include arrays and subdocuments. It can support different data types. More information here: https://docs.mongodb.com/manual/reference/bson-types/. \n",
    "\n",
    "| Relational DB  | MongoDB  |\n",
    "|---|---|\n",
    "|  Database | Database  |  \n",
    "| Tables  |  Collections |\n",
    "| Rows  | Documents  |\n",
    "| Index  |  Index |\n",
    " \t\n",
    "\n",
    "\n",
    "## 1.3 Document structure\n",
    "You can find more information about MongoDB document structure https://docs.mongodb.com/manual/core/document/. If you are not familiar with JSON and BSON specifications, you might wish to read about them here:\n",
    "- JSON: https://www.json.org/json-en.html\n",
    "- BSON: http://bsonspec.org\n",
    "\n"
   ]
  },
  {
   "cell_type": "markdown",
   "metadata": {
    "id": "NwYGltl9LBXL"
   },
   "source": [
    "# Task 2: Query a dataset\n",
    "\n",
    "We need `pymongo`, `dnspython` and `python==3.6`"
   ]
  },
  {
   "cell_type": "code",
   "execution_count": 3,
   "metadata": {
    "colab": {
     "base_uri": "https://localhost:8080/"
    },
    "id": "CPZgIJVNJY7c",
    "outputId": "32e24838-4ed2-4eff-fb89-e65a36236e76"
   },
   "outputs": [
    {
     "name": "stdout",
     "output_type": "stream",
     "text": [
      "Requirement already satisfied: pymongo in /usr/local/lib/python3.6/dist-packages (3.11.0)\n",
      "Collecting dnspython\n",
      "\u001b[?25l  Downloading https://files.pythonhosted.org/packages/90/49/cb426577c28ca3e35332815b795a99e467523843fc83cc85ca0d6be2515a/dnspython-2.0.0-py3-none-any.whl (208kB)\n",
      "\u001b[K     |████████████████████████████████| 215kB 2.7MB/s \n",
      "\u001b[?25hInstalling collected packages: dnspython\n",
      "Successfully installed dnspython-2.0.0\n"
     ]
    }
   ],
   "source": [
    "# install missing library\n",
    "!pip install pymongo\n",
    "!pip install dnspython"
   ]
  },
  {
   "cell_type": "markdown",
   "metadata": {
    "id": "eteAo2GFgyj1"
   },
   "source": [
    "If you use Google's collab, you now have to select `Runtime -> Restart runtime` or `Ctrl+M`.\n"
   ]
  },
  {
   "cell_type": "code",
   "execution_count": 1,
   "metadata": {
    "cellView": "form",
    "id": "LmlIorJ9An-P"
   },
   "outputs": [],
   "source": [
    "#@title Imports\n",
    "import pymongo\n",
    "from pprint import pprint\n",
    "from random import randint"
   ]
  },
  {
   "cell_type": "markdown",
   "metadata": {
    "id": "-u3HJH_9LmAE"
   },
   "source": [
    "## 2.1 - Establish a connection to MongoDB\n",
    "\n",
    "- **_[TO DO]_** : Connect to MongoDB using the MongoClient class from PyMongo library.\n",
    "\n",
    "\n"
   ]
  },
  {
   "cell_type": "code",
   "execution_count": null,
   "metadata": {
    "id": "fo-Z1QJtAvin"
   },
   "outputs": [],
   "source": [
    "###########################\n",
    "# Task: \n",
    "#   use MongoClient class to connect to MongoDB\n",
    "#\n",
    "###########################\n",
    "\n",
    "\n",
    "client = ### TO DO\n",
    "db=client.admin\n",
    "\n",
    "\n",
    "#########\n"
   ]
  },
  {
   "cell_type": "markdown",
   "metadata": {
    "id": "q0cxB6e3Z2Pz"
   },
   "source": [
    "Let's check whether everything works properly by retrieving the server status and printing the results, as follows:"
   ]
  },
  {
   "cell_type": "code",
   "execution_count": 3,
   "metadata": {
    "colab": {
     "base_uri": "https://localhost:8080/"
    },
    "id": "5m0B-AeUaBjP",
    "outputId": "01379b37-145a-4ddc-e25f-b42c81c60c54"
   },
   "outputs": [
    {
     "name": "stdout",
     "output_type": "stream",
     "text": [
      "{'$clusterTime': {'clusterTime': Timestamp(1604665639, 10),\n",
      "                  'signature': {'hash': b'\\xa1c6#\\xcb\\x0f\\x1b[V\\xfb\\xda\\xdf'\n",
      "                                        b'g\\xaf\\xd2\\xbc\\xc0\\x11[B',\n",
      "                                'keyId': 6890917848361730051}},\n",
      " 'asserts': {'msg': 0, 'regular': 0, 'rollovers': 0, 'user': 0, 'warning': 0},\n",
      " 'atlasVersion': {'gitVersion': '4719b6d34c5fbbf73e93f1ff22641ebf02da3249',\n",
      "                  'version': '20201013.0.0.1602254538'},\n",
      " 'connections': {'available': 498, 'current': 2, 'totalCreated': 105},\n",
      " 'extra_info': {'note': 'fields vary by platform', 'page_faults': 0},\n",
      " 'host': 'cluster0-shard-00-01.fz1wq.mongodb.net:27017',\n",
      " 'localTime': datetime.datetime(2020, 11, 6, 12, 27, 22, 560000),\n",
      " 'mem': {'bits': 64,\n",
      "         'mapped': 0,\n",
      "         'mappedWithJournal': 0,\n",
      "         'resident': 0,\n",
      "         'supported': True,\n",
      "         'virtual': 0},\n",
      " 'metrics': {'atlas': {'bytesInWrites': 13864,\n",
      "                       'connectionPool': {'totalCreated': 299}}},\n",
      " 'network': {'bytesIn': 323693271, 'bytesOut': 21031620, 'numRequests': 7077},\n",
      " 'ok': 1.0,\n",
      " 'opcounters': {'command': 3476,\n",
      "                'delete': 8,\n",
      "                'getmore': 3,\n",
      "                'insert': 3545,\n",
      "                'query': 27,\n",
      "                'update': 16},\n",
      " 'opcountersRepl': {'command': 0,\n",
      "                    'delete': 0,\n",
      "                    'getmore': 0,\n",
      "                    'insert': 0,\n",
      "                    'query': 0,\n",
      "                    'update': 0},\n",
      " 'operationTime': Timestamp(1604665639, 10),\n",
      " 'pid': 17171,\n",
      " 'process': 'mongod',\n",
      " 'repl': {'electionId': ObjectId('7fffffff0000000000000002'),\n",
      "          'hosts': ['cluster0-shard-00-00.fz1wq.mongodb.net:27017',\n",
      "                    'cluster0-shard-00-01.fz1wq.mongodb.net:27017',\n",
      "                    'cluster0-shard-00-02.fz1wq.mongodb.net:27017'],\n",
      "          'ismaster': True,\n",
      "          'lastWrite': {'lastWriteDate': datetime.datetime(2020, 11, 6, 12, 27, 19),\n",
      "                        'majorityOpTime': {'t': 2,\n",
      "                                           'ts': Timestamp(1604665639, 10)},\n",
      "                        'majorityWriteDate': datetime.datetime(2020, 11, 6, 12, 27, 19),\n",
      "                        'opTime': {'t': 2, 'ts': Timestamp(1604665639, 10)}},\n",
      "          'me': 'cluster0-shard-00-01.fz1wq.mongodb.net:27017',\n",
      "          'primary': 'cluster0-shard-00-01.fz1wq.mongodb.net:27017',\n",
      "          'rbid': 1,\n",
      "          'secondary': False,\n",
      "          'setName': 'atlas-n14h69-shard-0',\n",
      "          'setVersion': 1,\n",
      "          'tags': {'nodeType': 'ELECTABLE',\n",
      "                   'provider': 'AWS',\n",
      "                   'region': 'EU_WEST_1',\n",
      "                   'workloadType': 'OPERATIONAL'}},\n",
      " 'storageEngine': {'backupCursorOpen': False,\n",
      "                   'dropPendingIdents': 0,\n",
      "                   'name': 'wiredTiger',\n",
      "                   'oldestRequiredTimestampForCrashRecovery': Timestamp(1604665622, 3),\n",
      "                   'persistent': True,\n",
      "                   'readOnly': False,\n",
      "                   'supportsCommittedReads': True,\n",
      "                   'supportsPendingDrops': True,\n",
      "                   'supportsSnapshotReadConcern': True},\n",
      " 'uptime': 248832.0,\n",
      " 'uptimeEstimate': 248832,\n",
      " 'uptimeMillis': 248832289,\n",
      " 'version': '4.2.10'}\n"
     ]
    }
   ],
   "source": [
    "serverStatusResult=db.command(\"serverStatus\")\n",
    "pprint(serverStatusResult)"
   ]
  },
  {
   "cell_type": "markdown",
   "metadata": {
    "id": "VBV1hCxNMItl"
   },
   "source": [
    "\n",
    "## 2.2 - Create sample data\n",
    "\n",
    "Let's create our synthetic dataset with students, their mark (scaled from 1-10) and the reviewer on DAPS 2020.\n"
   ]
  },
  {
   "cell_type": "code",
   "execution_count": 4,
   "metadata": {
    "colab": {
     "base_uri": "https://localhost:8080/"
    },
    "id": "jfoG5Yema9jx",
    "outputId": "a76f4637-9f38-438c-ec58-ef46eb8e6178"
   },
   "outputs": [
    {
     "name": "stdout",
     "output_type": "stream",
     "text": [
      "[{'name': 'Natalia Palmer', 'DAPS_assignment': 5, 'reviewer': 'Laura'}, {'name': 'Andrew Peterson', 'DAPS_assignment': 4, 'reviewer': 'Miguel'}, {'name': 'Natalia Palmer', 'DAPS_assignment': 2, 'reviewer': 'Laura'}, {'name': 'Mike Adams', 'DAPS_assignment': 3, 'reviewer': 'Laura'}, {'name': 'Anna Palmer', 'DAPS_assignment': 10, 'reviewer': 'Miguel'}, {'name': 'Nick Armstrong', 'DAPS_assignment': 9, 'reviewer': 'Miguel'}, {'name': 'Mike Roberts', 'DAPS_assignment': 8, 'reviewer': 'Laura'}, {'name': 'Andrew Adams', 'DAPS_assignment': 5, 'reviewer': 'Laura'}, {'name': 'Alex Peterson', 'DAPS_assignment': 6, 'reviewer': 'Miguel'}, {'name': 'Alex Armstrong', 'DAPS_assignment': 7, 'reviewer': 'Laura'}, {'name': 'Paul Adams', 'DAPS_assignment': 1, 'reviewer': 'Laura'}, {'name': 'Anna Palmer', 'DAPS_assignment': 6, 'reviewer': 'Miguel'}, {'name': 'Andrew Adams', 'DAPS_assignment': 6, 'reviewer': 'Miguel'}, {'name': 'Alex Turner', 'DAPS_assignment': 9, 'reviewer': 'Miguel'}, {'name': 'Mike Palmer', 'DAPS_assignment': 1, 'reviewer': 'Laura'}, {'name': 'Maria Peterson', 'DAPS_assignment': 6, 'reviewer': 'Laura'}, {'name': 'Andrew Adams', 'DAPS_assignment': 2, 'reviewer': 'Miguel'}, {'name': 'Andrew Roberts', 'DAPS_assignment': 3, 'reviewer': 'Miguel'}, {'name': 'Mike Palmer', 'DAPS_assignment': 5, 'reviewer': 'Miguel'}, {'name': 'Natalia Peterson', 'DAPS_assignment': 9, 'reviewer': 'Laura'}, {'name': 'Natalia Peterson', 'DAPS_assignment': 6, 'reviewer': 'Miguel'}, {'name': 'George Turner', 'DAPS_assignment': 6, 'reviewer': 'Laura'}, {'name': 'Nick Baker', 'DAPS_assignment': 9, 'reviewer': 'Miguel'}, {'name': 'Ellie Peterson', 'DAPS_assignment': 6, 'reviewer': 'Miguel'}, {'name': 'Mike Adams', 'DAPS_assignment': 5, 'reviewer': 'Miguel'}, {'name': 'Ellie Roberts', 'DAPS_assignment': 6, 'reviewer': 'Miguel'}, {'name': 'George Peterson', 'DAPS_assignment': 10, 'reviewer': 'Miguel'}, {'name': 'Mike Peterson', 'DAPS_assignment': 1, 'reviewer': 'Laura'}, {'name': 'Maria Peterson', 'DAPS_assignment': 8, 'reviewer': 'Laura'}]\n"
     ]
    }
   ],
   "source": [
    "names = ['Anna','Maria','George', 'Mike', 'Alex','Paul','Nick', 'Andrew','Ellie', 'Natalia']\n",
    "surname = ['Adams', 'Baker', 'Palmer', 'Peterson', 'Roberts', 'Turner', 'Armstrong']\n",
    "reviewer = ['Laura','Miguel']\n",
    "student=[]\n",
    "for i in range(1, 30):\n",
    "    student.append({\n",
    "        'name' : names[randint(0, (len(names)-1))] + ' '  + surname[randint(0, (len(surname)-1))],\n",
    "        'DAPS_assignment' : randint(1, 10),\n",
    "        'reviewer':  reviewer[randint(0, (len(reviewer)-1))] })\n",
    "print(student)"
   ]
  },
  {
   "cell_type": "markdown",
   "metadata": {
    "id": "D_GisBsPa7R_"
   },
   "source": [
    "\n",
    "\n",
    "**_[TO DO]_**: Upload this database using `insert_one` or `insert_many` command.\n"
   ]
  },
  {
   "cell_type": "code",
   "execution_count": 5,
   "metadata": {
    "id": "Fy7pnMz3gUxL"
   },
   "outputs": [],
   "source": [
    "# Create a database object called “students”\n",
    "db = client.students"
   ]
  },
  {
   "cell_type": "code",
   "execution_count": null,
   "metadata": {
    "id": "hMZf2aDDi7tC"
   },
   "outputs": [],
   "source": [
    "###########################\n",
    "# Task: \n",
    "#   upload this database using insert_one or insert_many command\n",
    "#\n",
    "###########################\n",
    "\n",
    "\n",
    "### TO DO\n",
    "\n",
    "\n",
    "\n",
    "#########"
   ]
  },
  {
   "cell_type": "markdown",
   "metadata": {
    "id": "ACbLHpq0MuxJ"
   },
   "source": [
    "## 2.3 - Query a document\n",
    "\n",
    "\n",
    "**_[TO DO]_** : Find one student with score of 5. You can use the command `find_one`.\n",
    "\n"
   ]
  },
  {
   "cell_type": "code",
   "execution_count": null,
   "metadata": {
    "id": "5568ROVpjbbc"
   },
   "outputs": [],
   "source": [
    "###########################\n",
    "# Task: \n",
    "#   find one student with final DAPS_assignment score equal 5\n",
    "#\n",
    "###########################\n",
    "\n",
    "\n",
    "### TO DO\n",
    "\n",
    "\n",
    "\n",
    "#########"
   ]
  },
  {
   "cell_type": "markdown",
   "metadata": {
    "id": "N-YouR9Djwo3"
   },
   "source": [
    "\n",
    "**_[TO DO]_** : Query the database to find the total number of students with score 8 and 3? You can use `aggregation` or `find` command.\n"
   ]
  },
  {
   "cell_type": "code",
   "execution_count": null,
   "metadata": {
    "id": "Y_py_6fykWdB"
   },
   "outputs": [],
   "source": [
    "###########################\n",
    "# Task: \n",
    "#   Count the total students with final DAPS_assignment score equal to 3 and 8.\n",
    "#\n",
    "###########################\n",
    "\n",
    "\n",
    "### TO DO\n",
    "\n",
    "\n",
    "\n",
    "#########"
   ]
  },
  {
   "cell_type": "markdown",
   "metadata": {
    "id": "xIUZ5CKbYBAH"
   },
   "source": [
    " Dr. Laura Toni is happy today and she is going to pass all students with final score 4.\n",
    " \n",
    "**_[TO DO]_** : Change the score on all the students with final mark 4 to 5. You can use one of the following commands: `update_one`, `update_many` and `replace_one`."
   ]
  },
  {
   "cell_type": "code",
   "execution_count": null,
   "metadata": {
    "id": "jZa9wDMwmKCN"
   },
   "outputs": [],
   "source": [
    "###########################\n",
    "# Task: \n",
    "#   Adjust the score on all the students with final mark 4 to 5.\n",
    "#\n",
    "###########################\n",
    "\n",
    "\n",
    "### TO DO\n",
    "\n",
    "\n",
    "\n",
    "#########"
   ]
  },
  {
   "cell_type": "markdown",
   "metadata": {
    "id": "RkhWS8UTNzN6"
   },
   "source": [
    "That was an unfair move!\n",
    "\n",
    "**_[TO DO]_** : Let's delete all the documents that Dr. Laura Toni marked!"
   ]
  },
  {
   "cell_type": "code",
   "execution_count": null,
   "metadata": {
    "id": "33_3Nkyyq0TW"
   },
   "outputs": [],
   "source": [
    "###########################\n",
    "# Task: \n",
    "#   Delete all documents with `reviewer:Laura`.\n",
    "#\n",
    "###########################\n",
    "\n",
    "\n",
    "### TO DO\n",
    "\n",
    "\n",
    "\n",
    "#########"
   ]
  },
  {
   "cell_type": "markdown",
   "metadata": {
    "id": "Thelgo7FiULB"
   },
   "source": [
    "GOOD JOB! You finished the tasks!\n",
    "\n",
    "\n",
    "You might be asking yourself now: Why and when a non-elational database is useful? MongoDB allows storing data in documents. This is very useful when you have a lot of many-to-many relationships. Other advantages include:\n",
    "- it enables the fast development of applications, \n",
    "- it supports highly diverse data types, \n",
    "- and allows efficient interations with applications at scale.\n",
    "Read more here: https://www.mongodb.com/compare/mongodb-mysql \n",
    "\n",
    "\n",
    "You can learn more about developing MongoDB-based applications here:\n",
    "- https://university.mongodb.com/courses/M121/about?jmp=M101Pap\n",
    "- https://university.mongodb.com/courses/M220P/about?jmp=M101Pap\n",
    "- https://university.mongodb.com/courses/M320/about?jmp=M101Pap"
   ]
  }
 ],
 "metadata": {
  "colab": {
   "collapsed_sections": [],
   "name": "LAB3.ipynb",
   "provenance": []
  },
  "kernelspec": {
   "display_name": "Python 3",
   "language": "python",
   "name": "python3"
  },
  "language_info": {
   "codemirror_mode": {
    "name": "ipython",
    "version": 3
   },
   "file_extension": ".py",
   "mimetype": "text/x-python",
   "name": "python",
   "nbconvert_exporter": "python",
   "pygments_lexer": "ipython3",
   "version": "3.7.4"
  }
 },
 "nbformat": 4,
 "nbformat_minor": 1
}
